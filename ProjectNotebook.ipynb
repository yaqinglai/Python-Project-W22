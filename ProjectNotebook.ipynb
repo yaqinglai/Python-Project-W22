{
 "cells": [
  {
   "cell_type": "markdown",
   "metadata": {},
   "source": [
    "# Project Description"
   ]
  },
  {
   "cell_type": "markdown",
   "metadata": {},
   "source": [
    "## My project is about an Ultimate Secret Garden Handbook that is suitable for those who love planting flowers! \n",
    "\n",
    "##### This handbook has three main features: (1)recording new flowers added by user, (2)removing flowers unwanted by user, and (3)letting the user choose a flower to plant based on the collection of flowers in the handbook. Each flower is recorded as the name it's commonly referred to. Associated with each flower name is information related to its genus, color and season that it best grows. \n",
    "\n",
    "##### That said, if you feel like planting today, you could pull up a list of matching flowers after filtering for the genus, color or season. If you have no idea and just want to get planting, feel free to view the flower encyclopedia in the handbook. The encyclopedia displays the whole collection of flowers as well as all its related information! \n",
    "\n",
    "##### There is already a pre-existing library of flowers that the Garden Fairy left in there! Now, the Ultimate Secret Garden Handbook is in your hands. Feel free to interact with it. Make sure you make full use of it and get planting! "
   ]
  },
  {
   "cell_type": "markdown",
   "metadata": {},
   "source": [
    "## Project Code\n",
    "\n",
    "If it makes sense for your project, you can have code and outputs here in the notebook as well."
   ]
  },
  {
   "cell_type": "code",
   "execution_count": 1,
   "metadata": {},
   "outputs": [],
   "source": [
    "import my_module.flower_functions as flower"
   ]
  },
  {
   "cell_type": "code",
   "execution_count": 9,
   "metadata": {},
   "outputs": [
    {
     "name": "stdout",
     "output_type": "stream",
     "text": [
      "\n",
      "Welcome to the Ultimate Secret Garden Handbook! 🧝\n",
      "\n",
      "Would you like to\n",
      "add a flower, ➕\n",
      "remove a flower, ➖\n",
      "or choose a flower to plant? 🌻\n",
      "choose\n",
      "\n",
      "Let's get planting! Time to decide which flower to plant. 🌺\n",
      "\n",
      "Do you want to choose a flower based on\n",
      "the genus - type 'genus',\n",
      "the color - type 'color',\n",
      "the season - type 'season',\n",
      "or view flower encyclopedia in handbook - type 'all'? 🔑\n",
      "all\n",
      "       boat orchid    daffodil   dandelion       orchid     peony  saffron  \\\n",
      "genus   🌿Cymbidium  🌿Narcissus  🌿Taraxacum  🌿Dendrobium  🌿Paeonia  🌿Crocus   \n",
      "color      🌿purple     🌿yellow      🌿white      🌿orange     🌿pink  🌿purple   \n",
      "season     🌿winter     🌿spring     🌿spring      🌿winter   🌿summer    🌿fall   \n",
      "\n",
      "          sunflower  sweet pea  \n",
      "genus   🌿Helianthus  🌿Lathyrus  \n",
      "color       🌿yellow      🌿pink  \n",
      "season      🌿summer    🌿summer  \n",
      "\n",
      "Would you like to end the Ultimate Secret Garden Handbook? 🪴\n",
      "yes\n",
      "\n",
      "Happy Planting! See you again soon. 🧚\n",
      "\n"
     ]
    }
   ],
   "source": [
    "# A demonstration of how my project works.\n",
    "# Here, I will first pull out the existing flower records in the Ultimate Secret Garden Handbook.\n",
    "# This is also known as the flower encyclopedia section of the handbook.\n",
    "flower.start()"
   ]
  },
  {
   "cell_type": "code",
   "execution_count": 10,
   "metadata": {},
   "outputs": [
    {
     "name": "stdout",
     "output_type": "stream",
     "text": [
      "\n",
      "Welcome to the Ultimate Secret Garden Handbook! 🧝\n",
      "\n",
      "Would you like to\n",
      "add a flower, ➕\n",
      "remove a flower, ➖\n",
      "or choose a flower to plant? 🌻\n",
      "add\n",
      "\n",
      "Alright, let's get some info on your flower. 🌼\n",
      "\n",
      "What is your flower commonly referred to?\n",
      "rose\n",
      "What is the genus of the flower?\n",
      "rosa\n",
      "What is the color of your flower?\n",
      "red\n",
      "Which season does your flower grows best in?\n",
      "spring\n",
      "\n",
      "All set! Your new flower is part of the handbook now. 🌷\n",
      "Below is the record of the flower you just added:\n",
      "\n",
      "                info\n",
      "flower name    🌿rose\n",
      "genus          🌿Rosa\n",
      "color           🌿red\n",
      "season       🌿spring\n",
      "\n",
      "Would you like to end the Ultimate Secret Garden Handbook? 🪴\n",
      "no\n",
      "\n",
      "Great! Let's continue. 🌱\n",
      "\n",
      "\n",
      "Welcome to the Ultimate Secret Garden Handbook! 🧝\n",
      "\n",
      "Would you like to\n",
      "add a flower, ➕\n",
      "remove a flower, ➖\n",
      "or choose a flower to plant? 🌻\n",
      "add\n",
      "\n",
      "Alright, let's get some info on your flower. 🌼\n",
      "\n",
      "What is your flower commonly referred to?\n",
      "daisy\n",
      "What is the genus of the flower?\n",
      "bellis\n",
      "What is the color of your flower?\n",
      "white\n",
      "Which season does your flower grows best in?\n",
      "fall\n",
      "\n",
      "All set! Your new flower is part of the handbook now. 🌷\n",
      "Below is the record of the flower you just added:\n",
      "\n",
      "                info\n",
      "flower name   🌿daisy\n",
      "genus        🌿Bellis\n",
      "color         🌿white\n",
      "season         🌿fall\n",
      "\n",
      "Would you like to end the Ultimate Secret Garden Handbook? 🪴\n",
      "quit\n",
      "\n",
      "Happy Planting! See you again soon. 🧚\n",
      "\n"
     ]
    }
   ],
   "source": [
    "# I will now add two new flowers to the Ultimate Secret Garden Handbook.\n",
    "flower.start()"
   ]
  },
  {
   "cell_type": "code",
   "execution_count": 11,
   "metadata": {},
   "outputs": [
    {
     "name": "stdout",
     "output_type": "stream",
     "text": [
      "\n",
      "Welcome to the Ultimate Secret Garden Handbook! 🧝\n",
      "\n",
      "Would you like to\n",
      "add a flower, ➕\n",
      "remove a flower, ➖\n",
      "or choose a flower to plant? 🌻\n",
      "choose\n",
      "\n",
      "Let's get planting! Time to decide which flower to plant. 🌺\n",
      "\n",
      "Do you want to choose a flower based on\n",
      "the genus - type 'genus',\n",
      "the color - type 'color',\n",
      "the season - type 'season',\n",
      "or view flower encyclopedia in handbook - type 'all'? 🔑\n",
      "all\n",
      "       boat orchid    daffodil   dandelion       orchid     peony  saffron  \\\n",
      "genus   🌿Cymbidium  🌿Narcissus  🌿Taraxacum  🌿Dendrobium  🌿Paeonia  🌿Crocus   \n",
      "color      🌿purple     🌿yellow      🌿white      🌿orange     🌿pink  🌿purple   \n",
      "season     🌿winter     🌿spring     🌿spring      🌿winter   🌿summer    🌿fall   \n",
      "\n",
      "          sunflower  sweet pea     rose    daisy  \n",
      "genus   🌿Helianthus  🌿Lathyrus    🌿Rosa  🌿Bellis  \n",
      "color       🌿yellow      🌿pink     🌿red   🌿white  \n",
      "season      🌿summer    🌿summer  🌿spring    🌿fall  \n",
      "\n",
      "Would you like to end the Ultimate Secret Garden Handbook? 🪴\n",
      "end\n",
      "\n",
      "Happy Planting! See you again soon. 🧚\n",
      "\n"
     ]
    }
   ],
   "source": [
    "# Show that both new flowers are now in the handbook.\n",
    "flower.start()"
   ]
  },
  {
   "cell_type": "code",
   "execution_count": 12,
   "metadata": {},
   "outputs": [
    {
     "name": "stdout",
     "output_type": "stream",
     "text": [
      "\n",
      "Welcome to the Ultimate Secret Garden Handbook! 🧝\n",
      "\n",
      "Would you like to\n",
      "add a flower, ➕\n",
      "remove a flower, ➖\n",
      "or choose a flower to plant? 🌻\n",
      "remove\n",
      "\n",
      "No problem. Let us know about this unlucky flower. 🥀\n",
      "What is the name of this unlucky flower?\n",
      "daisy\n",
      "What is the genus of this unlucky flower?\n",
      "bellis\n",
      "What is the color of this unlucky flower?\n",
      "white\n",
      "Which season does this unlucky flower grows best in?\n",
      "fall\n",
      "\n",
      "Done. The handbook lost a dear friend! 😭\n",
      "Below is the record of the unlucky flower:\n",
      "\n",
      "                info\n",
      "flower name   🌿daisy\n",
      "genus        🌿Bellis\n",
      "color         🌿white\n",
      "season         🌿fall\n",
      "\n",
      "Would you like to end the Ultimate Secret Garden Handbook? 🪴\n",
      "no\n",
      "\n",
      "Great! Let's continue. 🌱\n",
      "\n",
      "\n",
      "Welcome to the Ultimate Secret Garden Handbook! 🧝\n",
      "\n",
      "Would you like to\n",
      "add a flower, ➕\n",
      "remove a flower, ➖\n",
      "or choose a flower to plant? 🌻\n",
      "choose\n",
      "\n",
      "Let's get planting! Time to decide which flower to plant. 🌺\n",
      "\n",
      "Do you want to choose a flower based on\n",
      "the genus - type 'genus',\n",
      "the color - type 'color',\n",
      "the season - type 'season',\n",
      "or view flower encyclopedia in handbook - type 'all'? 🔑\n",
      "all\n",
      "       boat orchid    daffodil   dandelion       orchid     peony  saffron  \\\n",
      "genus   🌿Cymbidium  🌿Narcissus  🌿Taraxacum  🌿Dendrobium  🌿Paeonia  🌿Crocus   \n",
      "color      🌿purple     🌿yellow      🌿white      🌿orange     🌿pink  🌿purple   \n",
      "season     🌿winter     🌿spring     🌿spring      🌿winter   🌿summer    🌿fall   \n",
      "\n",
      "          sunflower  sweet pea     rose  \n",
      "genus   🌿Helianthus  🌿Lathyrus    🌿Rosa  \n",
      "color       🌿yellow      🌿pink     🌿red  \n",
      "season      🌿summer    🌿summer  🌿spring  \n",
      "\n",
      "Would you like to end the Ultimate Secret Garden Handbook? 🪴\n",
      "yes\n",
      "\n",
      "Happy Planting! See you again soon. 🧚\n",
      "\n"
     ]
    }
   ],
   "source": [
    "# Now, I will remove one flower from the handbook.\n",
    "# We will see that the flower no longer appears in the handbook.\n",
    "flower.start()"
   ]
  },
  {
   "cell_type": "code",
   "execution_count": 13,
   "metadata": {},
   "outputs": [
    {
     "name": "stdout",
     "output_type": "stream",
     "text": [
      "\n",
      "Welcome to the Ultimate Secret Garden Handbook! 🧝\n",
      "\n",
      "Would you like to\n",
      "add a flower, ➕\n",
      "remove a flower, ➖\n",
      "or choose a flower to plant? 🌻\n",
      "choose\n",
      "\n",
      "Let's get planting! Time to decide which flower to plant. 🌺\n",
      "\n",
      "Do you want to choose a flower based on\n",
      "the genus - type 'genus',\n",
      "the color - type 'color',\n",
      "the season - type 'season',\n",
      "or view flower encyclopedia in handbook - type 'all'? 🔑\n",
      "season\n",
      "Which specific season are you looking for?\n",
      "spring\n",
      "      flowers\n",
      "0   🌿daffodil\n",
      "1  🌿dandelion\n",
      "2       🌿rose\n",
      "\n",
      "Would you like to end the Ultimate Secret Garden Handbook? 🪴\n",
      "end\n",
      "\n",
      "Happy Planting! See you again soon. 🧚\n",
      "\n"
     ]
    }
   ],
   "source": [
    "# We can also list conditions in which we want to choose a flower from.\n",
    "# In this demonstration, I will be choosing flowers based on the season they grow in.\n",
    "flower.start()"
   ]
  },
  {
   "cell_type": "code",
   "execution_count": 16,
   "metadata": {},
   "outputs": [
    {
     "name": "stdout",
     "output_type": "stream",
     "text": [
      "\n",
      "Welcome to the Ultimate Secret Garden Handbook! 🧝\n",
      "\n",
      "Would you like to\n",
      "add a flower, ➕\n",
      "remove a flower, ➖\n",
      "or choose a flower to plant? 🌻\n",
      "add\n",
      "\n",
      "Alright, let's get some info on your flower. 🌼\n",
      "\n",
      "What is your flower commonly referred to?\n",
      "daisy\n",
      "What is the genus of the flower?\n",
      "bellis\n",
      "What is the color of your flower?\n",
      "white\n",
      "Which season does your flower grows best in?\n",
      "spr\n",
      "\n",
      "There are only four seasons! 💐🌞🍂⛄\n",
      "\n",
      "Which season does your flower grows best in?\n",
      "fall\n",
      "\n",
      "All set! Your new flower is part of the handbook now. 🌷\n",
      "Below is the record of the flower you just added:\n",
      "\n",
      "                info\n",
      "flower name   🌿daisy\n",
      "genus        🌿Bellis\n",
      "color         🌿white\n",
      "season         🌿fall\n",
      "\n",
      "Would you like to end the Ultimate Secret Garden Handbook? 🪴\n",
      "no\n",
      "\n",
      "Great! Let's continue. 🌱\n",
      "\n",
      "\n",
      "Welcome to the Ultimate Secret Garden Handbook! 🧝\n",
      "\n",
      "Would you like to\n",
      "add a flower, ➕\n",
      "remove a flower, ➖\n",
      "or choose a flower to plant? 🌻\n",
      "choose\n",
      "\n",
      "Let's get planting! Time to decide which flower to plant. 🌺\n",
      "\n",
      "Do you want to choose a flower based on\n",
      "the genus - type 'genus',\n",
      "the color - type 'color',\n",
      "the season - type 'season',\n",
      "or view flower encyclopedia in handbook - type 'all'? 🔑\n",
      "number of petals\n",
      "\n",
      "That category doesn't yet exist in the Ultimate Secret Garden Handbook! 🙅\n",
      "\n",
      "Do you want to choose a flower based on\n",
      "the genus - type 'genus',\n",
      "the color - type 'color',\n",
      "the season - type 'season',\n",
      "or take a look at all flowers in the handbook - type 'all'? 🔑\n",
      "season\n",
      "Which specific season are you looking for?\n",
      "win\n",
      "\n",
      "There are only four seasons! 💐🌞🍂⛄\n",
      "\n",
      "Which specific season are you looking for?\n",
      "winter\n",
      "        flowers\n",
      "0  🌿boat orchid\n",
      "1       🌿orchid\n",
      "\n",
      "Would you like to end the Ultimate Secret Garden Handbook? 🪴\n",
      "what???\n",
      "\n",
      "I'm sorry! I'm a handbook and not a Chatbot. 📗\n",
      "\n"
     ]
    }
   ],
   "source": [
    "# This interactive handbook also included some fool-proof system. \n",
    "# Let's see what happens when there's a typo or when the user input doesn't answer the question displayed.\n",
    "flower.start()"
   ]
  },
  {
   "cell_type": "code",
   "execution_count": 19,
   "metadata": {},
   "outputs": [
    {
     "name": "stdout",
     "output_type": "stream",
     "text": [
      "\u001b[1m============================= test session starts ==============================\u001b[0m\n",
      "platform linux -- Python 3.9.5, pytest-6.2.5, py-1.10.0, pluggy-1.0.0\n",
      "rootdir: /home/yqlai/FinalProject_COGS18_WI22\n",
      "plugins: anyio-3.2.1\n",
      "collected 5 items                                                              \u001b[0m\u001b[1m\n",
      "\n",
      "my_module/test_functions.py \u001b[32m.\u001b[0m\u001b[32m.\u001b[0m\u001b[32m.\u001b[0m\u001b[32m.\u001b[0m\u001b[32m.\u001b[0m\u001b[32m                                        [100%]\u001b[0m\n",
      "\n",
      "\u001b[32m============================== \u001b[32m\u001b[1m5 passed\u001b[0m\u001b[32m in 1.01s\u001b[0m\u001b[32m ===============================\u001b[0m\n"
     ]
    }
   ],
   "source": [
    "# test it out\n",
    "!pytest"
   ]
  },
  {
   "cell_type": "markdown",
   "metadata": {},
   "source": [
    "#### Extra Credit (*optional*)\n",
    "\n",
    "This is my first ever programming class and also the first time I've dealt with coding. I appreciate the opportunity given to complete this project! Aside from the extremly useful skills that I'm taught in class (eg. loops, pandas, test functions, docstrings, etc.), I've also applied countless knowledge I've gained on the internet in my project to achieve the goal I set up when I started the project. From this project, I've learned that all emojis have a unicode or CLDR short name that we could easily use to print it out in python, and that we can't delete an item in a dictionary by simply using a typical for loop. Yet, most of all, I've learned how to intergrate all my codes to make sure they work cohesively to execute my project!"
   ]
  }
 ],
 "metadata": {
  "kernelspec": {
   "display_name": "Python 3 (ipykernel)",
   "language": "python",
   "name": "python3"
  },
  "language_info": {
   "codemirror_mode": {
    "name": "ipython",
    "version": 3
   },
   "file_extension": ".py",
   "mimetype": "text/x-python",
   "name": "python",
   "nbconvert_exporter": "python",
   "pygments_lexer": "ipython3",
   "version": "3.9.5"
  }
 },
 "nbformat": 4,
 "nbformat_minor": 2
}
